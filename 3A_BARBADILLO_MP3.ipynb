{
  "nbformat": 4,
  "nbformat_minor": 0,
  "metadata": {
    "colab": {
      "provenance": []
    },
    "kernelspec": {
      "name": "python3",
      "display_name": "Python 3"
    },
    "language_info": {
      "name": "python"
    }
  },
  "cells": [
    {
      "cell_type": "markdown",
      "source": [
        "# EXERCISE 1"
      ],
      "metadata": {
        "id": "HL7gasRy0ehd"
      }
    },
    {
      "cell_type": "code",
      "execution_count": 1,
      "metadata": {
        "colab": {
          "base_uri": "https://localhost:8080/"
        },
        "id": "MjQs-5Mu0Y1F",
        "outputId": "53365e8f-8269-4fee-a981-7669ad5478ce"
      },
      "outputs": [
        {
          "output_type": "stream",
          "name": "stdout",
          "text": [
            "It is raining: True\n",
            "The ground is wet: True\n",
            "The match will light: False\n"
          ]
        }
      ],
      "source": [
        "P = True  # It is raining\n",
        "Q = False  # The ground is wet\n",
        "R = True  # The match will light\n",
        "\n",
        "if P:\n",
        "    Q = True\n",
        "\n",
        "if Q:\n",
        "    R = False\n",
        "\n",
        "print(\"It is raining:\", P)\n",
        "print(\"The ground is wet:\", Q)\n",
        "print(\"The match will light:\", R)"
      ]
    },
    {
      "cell_type": "markdown",
      "source": [
        "# EXERCISE 2"
      ],
      "metadata": {
        "id": "RjvJGeOX0km3"
      }
    },
    {
      "cell_type": "code",
      "source": [
        "# Define the predicates\n",
        "def isHuman(person):\n",
        "    return person == \"Socrates\"\n",
        "\n",
        "def isMortal(person):\n",
        "    return isHuman(person)  # All humans are mortal\n",
        "\n",
        "# Check if Socrates is mortal\n",
        "socrates = \"Socrates\"\n",
        "if isMortal(socrates):\n",
        "    print(f\"{socrates} is mortal.\")\n",
        "else:\n",
        "    print(f\"{socrates} is not mortal.\")"
      ],
      "metadata": {
        "colab": {
          "base_uri": "https://localhost:8080/"
        },
        "id": "h-9n11nG0nIZ",
        "outputId": "e6735f93-b823-4a0d-c5af-4dfe9d1ca28a"
      },
      "execution_count": 2,
      "outputs": [
        {
          "output_type": "stream",
          "name": "stdout",
          "text": [
            "Socrates is mortal.\n"
          ]
        }
      ]
    },
    {
      "cell_type": "markdown",
      "source": [
        "# EXERCISE 3\n"
      ],
      "metadata": {
        "id": "GTi3-6FN2KP0"
      }
    },
    {
      "cell_type": "code",
      "source": [
        "# Inference System Using Modus Ponens\n",
        "\n",
        "# Define the rules and facts\n",
        "rules = []\n",
        "facts = {}\n",
        "\n",
        "def add_rule():\n",
        "    premise = input(\"Enter the premise (X): \")\n",
        "    conclusion = input(\"Enter the conclusion (Y): \")\n",
        "    rule_text = f\"If {premise} is true, then {conclusion} is true.\"\n",
        "    rules.append((rule_text, premise, conclusion))\n",
        "    print(\"Rule added successfully.\")\n",
        "\n",
        "def add_fact():\n",
        "    fact = input(\"Enter the fact: \")\n",
        "    facts[fact] = True\n",
        "    print(\"Fact added successfully.\")\n",
        "\n",
        "def modus_ponens():\n",
        "    conclusions = []\n",
        "\n",
        "    for rule in rules:\n",
        "        rule_text, premise, conclusion = rule\n",
        "\n",
        "        # Check if the premise is a fact\n",
        "        if facts.get(premise, False):\n",
        "            conclusions.append(conclusion)\n",
        "            facts[conclusion] = True  # Add the conclusion as a new fact\n",
        "            print(f\"Applying Modus Ponens: {rule_text} -> {conclusion} is now true.\")\n",
        "\n",
        "    return conclusions\n",
        "\n",
        "def main():\n",
        "    while True:\n",
        "        print(\"\\nInference System Menu:\")\n",
        "        print(\"1. Add a rule\")\n",
        "        print(\"2. Add a fact\")\n",
        "        print(\"3. Apply Modus Ponens\")\n",
        "        print(\"4. Exit\")\n",
        "\n",
        "        choice = input(\"Enter your choice (1-4): \")\n",
        "\n",
        "        if choice == \"1\":\n",
        "            add_rule()\n",
        "        elif choice == \"2\":\n",
        "            add_fact()\n",
        "        elif choice == \"3\":\n",
        "            conclusions = modus_ponens()\n",
        "            print(\"Conclusions derived:\", conclusions)\n",
        "            print(\"Updated Facts:\", facts)\n",
        "        elif choice == \"4\":\n",
        "            print(\"Exiting the inference system...\")\n",
        "            break\n",
        "        else:\n",
        "            print(\"Invalid choice. Please try again.\")\n",
        "\n",
        "if __name__ == \"__main__\":\n",
        "    main()"
      ],
      "metadata": {
        "id": "jTtgZEMC2krc"
      },
      "execution_count": null,
      "outputs": []
    },
    {
      "cell_type": "markdown",
      "source": [
        "#EXERCISE 4\n"
      ],
      "metadata": {
        "id": "lwPetlgo2Wc9"
      }
    },
    {
      "cell_type": "code",
      "source": [
        "# PART 1\n",
        "# Inference System Using Modus Ponens\n",
        "\n",
        "# Define the rules and facts\n",
        "rules = [\n",
        "    (\"If X is true, then Y is true.\", \"X\", \"Y\"),\n",
        "    (\"If Y is true, then Z is true.\", \"Y\", \"Z\"),\n",
        "]\n",
        "\n",
        "facts = {\n",
        "    \"X\": True,  # Fact: X is true\n",
        "    # \"Y\": False,  # Uncomment to test without Y being true\n",
        "    # \"Z\": False,  # Uncomment to test without Z being true\n",
        "}\n",
        "\n",
        "def modus_ponens(rules, facts):\n",
        "    conclusions = []\n",
        "\n",
        "    for rule in rules:\n",
        "        rule_text, premise, conclusion = rule\n",
        "\n",
        "        # Check if the premise is a fact\n",
        "        if facts.get(premise, False):\n",
        "            conclusions.append(conclusion)\n",
        "            facts[conclusion] = True  # Add the conclusion as a new fact\n",
        "            print(f\"Applying Modus Ponens: {rule_text} -> {conclusion} is now true.\")\n",
        "\n",
        "    return conclusions\n",
        "\n",
        "# Test the inference system\n",
        "print(\"Initial Facts:\", facts)\n",
        "conclusions = modus_ponens(rules, facts)\n",
        "print(\"Conclusions derived:\", conclusions)\n",
        "print(\"Updated Facts:\", facts)"
      ],
      "metadata": {
        "colab": {
          "base_uri": "https://localhost:8080/"
        },
        "id": "BGCJvgNP2L-d",
        "outputId": "d77faf52-596f-4a5d-94bc-f876896b3ab9"
      },
      "execution_count": 3,
      "outputs": [
        {
          "output_type": "stream",
          "name": "stdout",
          "text": [
            "Initial Facts: {'X': True}\n",
            "Applying Modus Ponens: If X is true, then Y is true. -> Y is now true.\n",
            "Applying Modus Ponens: If Y is true, then Z is true. -> Z is now true.\n",
            "Conclusions derived: ['Y', 'Z']\n",
            "Updated Facts: {'X': True, 'Y': True, 'Z': True}\n"
          ]
        }
      ]
    },
    {
      "cell_type": "code",
      "source": [
        "#PART2\n",
        "# Logic-Based Model for Hunger and Eating\n",
        "\n",
        "# Define the rules\n",
        "hunger_rules = [\n",
        "    (\"If a person is hungry, they will eat.\", \"hungry\", \"eats\"),\n",
        "    (\"If a person eats, they will no longer be hungry.\", \"eats\", \"not_hungry\"),\n",
        "]\n",
        "\n",
        "# Define initial facts\n",
        "facts_hunger = {\n",
        "    \"hungry\": True,  # John is hungry\n",
        "}\n",
        "\n",
        "def hunger_modus_ponens(rules, facts):\n",
        "    for rule in rules:\n",
        "        rule_text, premise, conclusion = rule\n",
        "\n",
        "        # Check if the premise is a fact\n",
        "        if facts.get(premise, False):\n",
        "            facts[conclusion] = True  # Add the conclusion as a new fact\n",
        "            print(f\"Applying Modus Ponens: {rule_text} -> {conclusion} is now true.\")\n",
        "\n",
        "    return facts\n",
        "\n",
        "# Test the hunger model\n",
        "print(\"\\nInitial Facts (Hunger Model):\", facts_hunger)\n",
        "facts_hunger = hunger_modus_ponens(hunger_rules, facts_hunger)\n",
        "print(\"Updated Facts (Hunger Model):\", facts_hunger)\n",
        "\n",
        "# Check if John is no longer hungry\n",
        "if facts_hunger.get(\"not_hungry\", False):\n",
        "    print(\"John is no longer hungry.\")\n",
        "else:\n",
        "    print(\"John is still hungry.\")"
      ],
      "metadata": {
        "colab": {
          "base_uri": "https://localhost:8080/"
        },
        "id": "KkAupHVg2QGG",
        "outputId": "1eab5bf6-a534-4dd9-daf1-93e5923e0ee1"
      },
      "execution_count": 4,
      "outputs": [
        {
          "output_type": "stream",
          "name": "stdout",
          "text": [
            "\n",
            "Initial Facts (Hunger Model): {'hungry': True}\n",
            "Applying Modus Ponens: If a person is hungry, they will eat. -> eats is now true.\n",
            "Applying Modus Ponens: If a person eats, they will no longer be hungry. -> not_hungry is now true.\n",
            "Updated Facts (Hunger Model): {'hungry': True, 'eats': True, 'not_hungry': True}\n",
            "John is no longer hungry.\n"
          ]
        }
      ]
    },
    {
      "cell_type": "code",
      "source": [],
      "metadata": {
        "id": "4hBAo-uV2YaM"
      },
      "execution_count": null,
      "outputs": []
    },
    {
      "cell_type": "markdown",
      "source": [
        "# EXERCISE 5"
      ],
      "metadata": {
        "id": "51HPzJql0qLz"
      }
    },
    {
      "cell_type": "markdown",
      "source": [
        "# Applying Logic-Based Models in AI Systems\n",
        "\n",
        "One real-world example of an AI system that uses logic-based reasoning is **Expert Systems**. Expert systems are computer programs designed to mimic the decision-making process of human experts in a specific domain. They typically consist of:\n",
        "\n",
        "1. **Knowledge Base**: A database of facts and rules.\n",
        "2. **Inference Engine**: A system that applies logical reasoning to the knowledge base to draw conclusions or make decisions.\n",
        "\n",
        "## Logic in Expert Systems\n",
        "\n",
        "In expert systems, **propositional** and **predicate logic** are used to represent the knowledge base and the rules for reasoning. Here's how:\n",
        "\n",
        "### 1. **Propositional Logic**:\n",
        "Propositional logic is used to represent simple facts and rules. For example, in a medical diagnosis system:\n",
        "\n",
        "\n",
        "\n",
        "These rules use **propositional logic** to connect symptoms (fever, cough) and diagnoses (possible pneumonia, pneumonia).\n",
        "\n",
        "### 2. **Predicate Logic**:\n",
        "Predicate logic allows for more complex relationships between objects and concepts. For example, consider this rule:\n",
        "\n",
        "\n",
        "This rule states that for every person `x` and person `y`, if `x` loves `y`, then `x` is happy.\n",
        "\n",
        "---\n",
        "\n",
        "### Example in Expert Systems:\n",
        "\n",
        "In an expert system for medical diagnosis, the knowledge base might include rules like:\n",
        "\n",
        "- IF (fever AND high_white_blood_cell_count) THEN (possible_infection)\n",
        "- IF (possible_infection AND positive_blood_culture) THEN (bacterial_infection)\n",
        "\n",
        "The inference engine applies these rules to make logical deductions about a patient's condition based on their symptoms and test results.\n",
        "\n",
        "### Real-World Applications:\n",
        "\n",
        "Logic-based models, particularly in expert systems, are applied in various fields:\n",
        "- **Medical diagnosis**: Assisting doctors in diagnosing diseases.\n",
        "- **Legal reasoning**: Supporting legal professionals with case evaluations.\n",
        "- **Safety-critical systems**: Ensuring safe operation in industries like aviation and nuclear power.\n",
        "\n",
        "---\n",
        "\n",
        "In this way, logic-based models provide transparent, explainable reasoning processes that can be critical for decision-making in sensitive and high-stakes domains.\n",
        "\n",
        "# Logic Rule and Discussion: Logic-Based Models in AI\n",
        "\n",
        "## Rule:\n",
        "This rule states that for all persons x and y, if x loves y, then x is happy.\n",
        "\n",
        "`∀x ∀y (Loves(x, y) → Happy(x))`\n",
        "\n",
        "---\n",
        "\n",
        "## Advantages and Challenges of Logic-Based Models in AI\n",
        "\n",
        "### Advantages:\n",
        "\n",
        "1. **Transparency**:\n",
        "   - Logic-based models are often more interpretable and explainable compared to black-box machine learning models. The reasoning process can be traced back to the underlying rules and facts.\n",
        "\n",
        "2. **Flexibility**:\n",
        "   - Logic-based models can handle uncertainty and incomplete information by using techniques like fuzzy logic or probabilistic reasoning.\n",
        "\n",
        "3. **Knowledge Representation**:\n",
        "   - Logic provides a formal language for representing and reasoning about complex knowledge domains.\n",
        "\n",
        "### Challenges:\n",
        "\n",
        "1. **Knowledge Acquisition**:\n",
        "   - Capturing expert knowledge and translating it into a formal logic-based representation can be time-consuming and error-prone.\n",
        "\n",
        "2. **Scalability**:\n",
        "   - As the knowledge base grows, the complexity of the logical reasoning increases, which can lead to performance issues.\n",
        "\n",
        "3. **Uncertainty Handling**:\n",
        "   - While techniques exist for handling uncertainty, dealing with noisy, ambiguous, or contradictory information remains a challenge.\n",
        "\n",
        "4. **Adaptability**:\n",
        "   - Logic-based models may struggle to adapt to changing environments or new situations not covered by the existing knowledge base.\n",
        "\n",
        "---\n",
        "\n",
        "Despite these challenges, logic-based models continue to play an important role in AI, particularly in domains where transparency, explainability, and formal reasoning are crucial, such as medical diagnosis, legal reasoning, and safety-critical systems.\n"
      ],
      "metadata": {
        "id": "0czPKlJF05cD"
      }
    },
    {
      "cell_type": "markdown",
      "source": [
        "# EXERCISE 6"
      ],
      "metadata": {
        "id": "qxX4-m6F1jwy"
      }
    },
    {
      "cell_type": "markdown",
      "source": [
        "# Logic Rules for Chatbot Restaurant Recommendations\n",
        "\n",
        "We will define the following logic rules for the chatbot:\n",
        "\n",
        "1. **Italian Cuisine**:\n",
        "   - If a user prefers Italian cuisine **and** does **not** have dietary restrictions, recommend *Luigi's Italian Bistro*.\n",
        "\n",
        "2. **Vegetarian Options**:\n",
        "   - If a user prefers vegetarian options, recommend *Green Leaf Café*.\n",
        "\n",
        "3. **Fast Food in Downtown**:\n",
        "   - If a user prefers fast food and is located in \"Downtown,\" recommend *Burger King*.\n",
        "\n",
        "4. **Chinese Cuisine in Uptown**:\n",
        "   - If a user prefers Chinese cuisine and is located in \"Uptown,\" recommend *Dragon Palace*.\n",
        "\n",
        "5. **Dietary Restrictions**:\n",
        "   - If a user has a dietary restriction (e.g., gluten-free), recommend *Healthy Eats*.\n",
        "\n",
        "---\n",
        "\n",
        "In this chatbot system, the rules are designed to provide personalized restaurant recommendations based on the user’s preferences and location.\n"
      ],
      "metadata": {
        "id": "uqOEwwhf3EyD"
      }
    },
    {
      "cell_type": "code",
      "source": [
        "# Inference System Using Modus Ponens\n",
        "\n",
        "# Define the rules and facts\n",
        "rules = []\n",
        "facts = {}\n",
        "\n",
        "def add_rule():\n",
        "    premise = input(\"Enter the premise (X): \")\n",
        "    conclusion = input(\"Enter the conclusion (Y): \")\n",
        "    rule_text = f\"If {premise} is true, then {conclusion} is true.\"\n",
        "    rules.append((rule_text, premise, conclusion))\n",
        "    print(\"Rule added successfully.\")\n",
        "\n",
        "def add_fact():\n",
        "    fact = input(\"Enter the fact: \")\n",
        "    facts[fact] = True\n",
        "    print(\"Fact added successfully.\")\n",
        "\n",
        "def modus_ponens():\n",
        "    conclusions = []\n",
        "\n",
        "    for rule in rules:\n",
        "        rule_text, premise, conclusion = rule\n",
        "\n",
        "        # Check if the premise is a fact\n",
        "        if facts.get(premise, False):\n",
        "            conclusions.append(conclusion)\n",
        "            facts[conclusion] = True  # Add the conclusion as a new fact\n",
        "            print(f\"Applying Modus Ponens: {rule_text} -> {conclusion} is now true.\")\n",
        "\n",
        "    return conclusions\n",
        "\n",
        "def main():\n",
        "    while True:\n",
        "        print(\"\\nInference System Menu:\")\n",
        "        print(\"1. Add a rule\")\n",
        "        print(\"2. Add a fact\")\n",
        "        print(\"3. Apply Modus Ponens\")\n",
        "        print(\"4. Exit\")\n",
        "\n",
        "        choice = input(\"Enter your choice (1-4): \")\n",
        "\n",
        "        if choice == \"1\":\n",
        "            add_rule()\n",
        "        elif choice == \"2\":\n",
        "            add_fact()\n",
        "        elif choice == \"3\":\n",
        "            conclusions = modus_ponens()\n",
        "            print(\"Conclusions derived:\", conclusions)\n",
        "            print(\"Updated Facts:\", facts)\n",
        "        elif choice == \"4\":\n",
        "            print(\"Exiting the inference system...\")\n",
        "            break\n",
        "        else:\n",
        "            print(\"Invalid choice. Please try again.\")\n",
        "\n",
        "if __name__ == \"__main__\":\n",
        "    main()"
      ],
      "metadata": {
        "id": "6rg2GgD31mH1"
      },
      "execution_count": null,
      "outputs": []
    },
    {
      "cell_type": "markdown",
      "source": [
        "# EXERCISE 7\n"
      ],
      "metadata": {
        "id": "txVPDyOM3Ulb"
      }
    },
    {
      "cell_type": "code",
      "source": [
        "# Inference System Using Modus Ponens\n",
        "\n",
        "# Define the predicates\n",
        "def is_human(person):\n",
        "    return person == \"Socrates\"\n",
        "\n",
        "def is_mortal(person):\n",
        "    return is_human(person)  # All humans are mortal\n",
        "\n",
        "# Define the rules and facts\n",
        "rules = [\n",
        "    (\"IF (cuisine = 'Italian') THEN (restaurant IN italian_restaurants)\", lambda r: cuisine(r, 'Italian')),\n",
        "    (\"IF (price_range = 'cheap') THEN (restaurant IN cheap_restaurants)\", lambda r: price_range(r, 'cheap')),\n",
        "    (\"IF (price_range = 'expensive') THEN (restaurant IN expensive_restaurants)\", lambda r: price_range(r, 'expensive')),\n",
        "    (\"IF (dietary_restriction = 'vegetarian') THEN (restaurant IN vegetarian_restaurants)\", lambda r: dietary_restriction(r, 'vegetarian')),\n",
        "    (\"IF (restaurant IN italian_restaurants AND restaurant IN cheap_restaurants) THEN (restaurant IN italian_cheap_restaurants)\",\n",
        "     lambda r: cuisine(r, 'Italian') and price_range(r, 'cheap')),\n",
        "    (\"IF (restaurant IN italian_restaurants AND restaurant IN expensive_restaurants) THEN (restaurant IN italian_expensive_restaurants)\",\n",
        "     lambda r: cuisine(r, 'Italian') and price_range(r, 'expensive')),\n",
        "    (\"IF (restaurant IN italian_cheap_restaurants OR restaurant IN italian_expensive_restaurants) THEN (restaurant IN recommended_restaurants)\",\n",
        "     lambda r: r in italian_cheap_restaurants or r in italian_expensive_restaurants)\n",
        "]\n",
        "\n",
        "facts = {\n",
        "    \"Socrates\": True,  # Socrates is a human\n",
        "    # \"X\": True,  # Uncomment to test other facts\n",
        "}\n",
        "\n",
        "def modus_ponens(rules, facts):\n",
        "    conclusions = []\n",
        "\n",
        "    for rule in rules:\n",
        "        rule_text, predicate = rule\n",
        "\n",
        "        # Check if the premise is a fact\n",
        "        if predicate(facts.keys()):\n",
        "            conclusion = rule_text.split(\" THEN \")[1].split(\" IN \")[1][:-1]\n",
        "            conclusions.append(conclusion)\n",
        "            facts[conclusion] = True  # Add the conclusion as a new fact\n",
        "            print(f\"Applying Modus Ponens: {rule_text} -> {conclusion} is now true.\")\n",
        "\n",
        "    return conclusions\n",
        "\n",
        "# Test the inference system\n",
        "print(\"Initial Facts:\", facts)\n",
        "conclusions = modus_ponens(rules, facts)\n",
        "print(\"Conclusions derived:\", conclusions)\n",
        "print(\"Updated Facts:\", facts)\n",
        "\n",
        "# Check if Socrates is mortal\n",
        "socrates = \"Socrates\"\n",
        "if is_mortal(socrates):\n",
        "    print(f\"{socrates} is mortal.\")\n",
        "else:\n",
        "    print(f\"{socrates} is not mortal.\")"
      ],
      "metadata": {
        "id": "YjfLaQWh3WQk"
      },
      "execution_count": null,
      "outputs": []
    },
    {
      "cell_type": "markdown",
      "source": [
        "# Documentation\n",
        "\n",
        "## Overview\n",
        "This Python script demonstrates the use of **propositional** and **predicate logic**, as well as **inference techniques** using **Modus Ponens**. It models a scenario where **Socrates is a human**, and **all humans are mortal**. Additionally, the script includes a **restaurant recommendation system** that utilizes propositional logic to infer suitable restaurants based on **cuisine type**, **price range**, and **dietary restrictions**.\n",
        "\n",
        "---\n",
        "\n",
        "## Logic and Reasoning Process\n",
        "\n",
        "### Predicates:\n",
        "The script defines two key predicates:\n",
        "\n",
        "- `is_human(person)`: Checks if a person is human.\n",
        "- `is_mortal(person)`: Checks if a person is mortal.\n",
        "\n",
        "### Rules and Facts:\n",
        "- **Rules**: A list of rules is defined, where each rule is represented as a tuple containing:\n",
        "  - A **description** of the rule.\n",
        "  - A **lambda function** that evaluates whether the rule is satisfied for a given input.\n",
        "  \n",
        "  The rules cover various conditions such as **cuisine type**, **price range**, and **dietary restrictions** for the restaurant recommendation system.\n",
        "  \n",
        "- **Facts**: Facts are stored in a dictionary where:\n",
        "  - Keys represent specific facts (e.g., Socrates is human, Italian cuisine is preferred).\n",
        "  - Values indicate whether these facts are **true** or **false**.\n",
        "\n",
        "---\n",
        "\n",
        "## Modus Ponens Function:\n",
        "- The `modus_ponens` function takes both **rules** and **facts** as input.\n",
        "- It iterates through the rules and checks if the **premise** is true based on the given facts.\n",
        "- If the premise is true, it deduces the **conclusion** and updates the facts dictionary with new information.\n",
        "- The function returns the list of **conclusions** derived from the rules and facts.\n",
        "\n",
        "---\n",
        "\n",
        "## Testing and Inference:\n",
        "The script performs the following tests to validate the inference system:\n",
        "\n",
        "1. **Initial Facts**: Prints the initial set of facts before inference.\n",
        "2. **Conclusions**: Displays the conclusions derived after applying **Modus Ponens** to the rules.\n",
        "3. **Updated Facts**: Prints the updated set of facts after inference.\n",
        "4. **Socrates**: Specifically checks if Socrates is mortal based on predicate logic.\n",
        "\n",
        "---\n",
        "\n",
        "## Testing for Accuracy:\n",
        "To ensure accuracy of the script:\n",
        "1. **Run the script** in a Python environment such as Google Colab.\n",
        "2. **Verify the output**: Ensure the output reflects the relationships defined by the rules and facts.\n",
        "3. **Modify facts or rules**: Test different scenarios by modifying facts or adding new rules, ensuring that the inference process works correctly in various situations.\n",
        "\n",
        "---\n",
        "\n",
        "## Conclusion:\n",
        "This script demonstrates the use of **propositional** and **predicate logic**, combined with **Modus Ponens** inference techniques. By defining rules and facts, the script can infer new conclusions and make decisions based on the provided information.\n",
        "\n",
        "This design can be extended further to include:\n",
        "- More complex rules.\n",
        "- Additional predicates.\n",
        "- A more comprehensive restaurant recommendation system.\n",
        "\n",
        "---\n",
        "\n",
        "Run this script to explore the powerful capabilities of logic-based reasoning in AI systems!\n"
      ],
      "metadata": {
        "id": "nkmjJ27n3oHO"
      }
    }
  ]
}